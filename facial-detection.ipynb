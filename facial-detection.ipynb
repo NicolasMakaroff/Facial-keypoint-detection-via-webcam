{
 "cells": [
  {
   "cell_type": "markdown",
   "metadata": {},
   "source": [
    "# Facial Detection via Webcam"
   ]
  },
  {
   "cell_type": "markdown",
   "metadata": {},
   "source": [
    "This project aims at creating a small IA able to detect portrait characteristics : mouth, nose and the face position."
   ]
  },
  {
   "cell_type": "markdown",
   "metadata": {},
   "source": [
    "As a beginning, we will take a look inside the database."
   ]
  },
  {
   "cell_type": "markdown",
   "metadata": {},
   "source": [
    "This project is made possible by using a preprossed version of the database **YouTube Faces DB**\n",
    "\n",
    " Lior Wolf, Tal Hassner and Itay Maoz\n",
    "*Face Recognition in Unconstrained Videos with Matched Background Similarity.*\n",
    "IEEE Conf. on Computer Vision and Pattern Recognition (CVPR), 2011."
   ]
  },
  {
   "cell_type": "code",
   "execution_count": null,
   "metadata": {},
   "outputs": [],
   "source": []
  }
 ],
 "metadata": {
  "kernelspec": {
   "display_name": "Python 3.7.3 64-bit ('base': conda)",
   "language": "python",
   "name": "python37364bitbaseconda7bdb38472b8447b1a3c551411def93ed"
  },
  "language_info": {
   "codemirror_mode": {
    "name": "ipython",
    "version": 3
   },
   "file_extension": ".py",
   "mimetype": "text/x-python",
   "name": "python",
   "nbconvert_exporter": "python",
   "pygments_lexer": "ipython3",
   "version": "3.7.4"
  }
 },
 "nbformat": 4,
 "nbformat_minor": 4
}
